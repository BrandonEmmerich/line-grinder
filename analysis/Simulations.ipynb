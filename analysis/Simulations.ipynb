{
 "cells": [
  {
   "cell_type": "markdown",
   "id": "9d335317-e765-4071-b2af-bf30f6eb8b54",
   "metadata": {},
   "source": [
    "# Simulations\n",
    "\n",
    "Given an edge, how likely is it that I'm profitable?"
   ]
  },
  {
   "cell_type": "code",
   "execution_count": 1,
   "id": "eb368be1-4c2f-4bb7-a67f-60b0f539efbe",
   "metadata": {},
   "outputs": [],
   "source": [
    "import numpy as np\n",
    "import pandas as pd\n",
    "import sys\n",
    "\n",
    "sys.path.append('..')\n",
    "import calculator"
   ]
  },
  {
   "cell_type": "code",
   "execution_count": 6,
   "id": "7e4ace7e-e47b-4136-9555-bab7e8386260",
   "metadata": {},
   "outputs": [],
   "source": [
    "class Market:\n",
    "    '''\n",
    "    Sportsbetting convience tools.\n",
    "    '''\n",
    "    def __init__(self, line_1=None, line_2=None):\n",
    "        self.line_1 = line_1\n",
    "        self.line_2 = line_2\n",
    "        self.probability_1 = None\n",
    "        self.probability_2 = None\n",
    "        self.hold = None\n",
    "        self.vig_free_1 = None \n",
    "        self.vig_free_2 = None\n",
    "        \n",
    "        # Calculate the hold\n",
    "        self._get_market_stats()\n",
    "    \n",
    "    @staticmethod    \n",
    "    def _get_implied_probability(line):\n",
    "        '''\n",
    "        Assuming American Odds\n",
    "        '''\n",
    "        if line >= 100:\n",
    "            return 100 / (100 + line)\n",
    "        else:\n",
    "            return line / (-100 + line)\n",
    "        \n",
    "    def _get_market_stats(self):\n",
    "        '''\n",
    "        Get implied probabilities, the hold, and the vig free probabilities for this market.\n",
    "        '''\n",
    "        ## Implied Probabilities:\n",
    "        self.probability_1 = self._get_implied_probability(self.line_1)\n",
    "        self.probability_2 = self._get_implied_probability(self.line_2)\n",
    "        \n",
    "        ## Hold\n",
    "        self._total_probability = self.probability_1 + self.probability_2\n",
    "        self.hold = 100 * (self._total_probability - 1)\n",
    "        \n",
    "        ## Vig Gree\n",
    "        \n",
    "        self.vig_free_1 = self.probability_1 / self._total_probability\n",
    "        self.vig_free_2 = self.probability_2 / self._total_probability\n",
    "\n",
    "    @staticmethod\n",
    "    def convert_american_to_decimal(line):\n",
    "        if abs(line) < 100:\n",
    "            raise ValueError('American Odds must be quoted like -110, +120')\n",
    "        \n",
    "        if line > 0:\n",
    "            return (line / 100) + 1\n",
    "        else:\n",
    "            return (-100 / line ) + 1\n",
    "        \n",
    "    def calculate_edge(self, square_line):\n",
    "        return round(100 * (self.convert_american_to_decimal(line=square_line) * self.vig_free_1 - 1),1)\n",
    "        "
   ]
  },
  {
   "cell_type": "code",
   "execution_count": 8,
   "id": "7269f6d7-bb7b-41cf-a074-65637e10d290",
   "metadata": {},
   "outputs": [
    {
     "data": {
      "text/plain": [
       "4.6"
      ]
     },
     "execution_count": 8,
     "metadata": {},
     "output_type": "execute_result"
    }
   ],
   "source": [
    "consensus_my_side = -222\n",
    "consensus_other_side = 180\n",
    "soft_line = -170\n",
    "\n",
    "consensus = Market(consensus_my_side, consensus_other_side)\n",
    "consensus.calculate_edge(soft_line)"
   ]
  },
  {
   "cell_type": "code",
   "execution_count": 10,
   "id": "3b798e23-2509-4c4c-9cf9-cb266a2b8818",
   "metadata": {},
   "outputs": [
    {
     "data": {
      "text/plain": [
       "0.658753709198813"
      ]
     },
     "execution_count": 10,
     "metadata": {},
     "output_type": "execute_result"
    }
   ],
   "source": [
    "consensus.vig_free_1"
   ]
  },
  {
   "cell_type": "code",
   "execution_count": 21,
   "id": "8b197ddb-1c84-49de-88be-cb3e816ecbd2",
   "metadata": {},
   "outputs": [
    {
     "data": {
      "text/plain": [
       "0.6296296296296297"
      ]
     },
     "execution_count": 21,
     "metadata": {},
     "output_type": "execute_result"
    }
   ],
   "source": [
    "Market._get_implied_probability(-170)"
   ]
  },
  {
   "cell_type": "code",
   "execution_count": 11,
   "id": "e450fd52-2247-45d0-956f-5bad48345c9c",
   "metadata": {},
   "outputs": [
    {
     "data": {
      "text/plain": [
       "-170"
      ]
     },
     "execution_count": 11,
     "metadata": {},
     "output_type": "execute_result"
    }
   ],
   "source": [
    "if soft_line <= -100:\n",
    "    return "
   ]
  },
  {
   "cell_type": "code",
   "execution_count": 19,
   "id": "629efe92-99f9-468e-a9b9-76a444789ffe",
   "metadata": {},
   "outputs": [
    {
     "data": {
      "text/plain": [
       "1.6999999999999997"
      ]
     },
     "execution_count": 19,
     "metadata": {},
     "output_type": "execute_result"
    }
   ],
   "source": [
    "1 / (Market.convert_american_to_decimal(-170) - 1)"
   ]
  },
  {
   "cell_type": "code",
   "execution_count": 20,
   "id": "ea2adfd7-7d8c-49de-93a6-fd7aaaecc2ec",
   "metadata": {},
   "outputs": [
    {
     "data": {
      "text/plain": [
       "0.588235294117647"
      ]
     },
     "execution_count": 20,
     "metadata": {},
     "output_type": "execute_result"
    }
   ],
   "source": [
    "1 / (Market.convert_american_to_decimal(170)  - 1)"
   ]
  },
  {
   "cell_type": "code",
   "execution_count": 61,
   "id": "a3dc49e4-25df-4051-a4c2-47a92cab1ead",
   "metadata": {},
   "outputs": [],
   "source": [
    "class OneBet:\n",
    "    '''\n",
    "    '''\n",
    "    def __init__(self, line, estimated_roi):\n",
    "        self.line = line\n",
    "        self.estimated_roi = estimated_roi\n",
    "        \n",
    "        self.bet_size = self.get_bet_size(self)\n",
    "        self.probability = self.get_estimated_probability()\n",
    "    \n",
    "    @staticmethod\n",
    "    def get_bet_size(self):\n",
    "        '''\n",
    "        Number of units wagered to win one unit.\n",
    "        '''\n",
    "        return  1 / (Market.convert_american_to_decimal(self.line) - 1)\n",
    "    \n",
    "    def get_estimated_probability(self):\n",
    "        '''\n",
    "        If we know the line and the estimated ROI, let's back out the true probability of success.\n",
    "        \n",
    "        To be clear, we don't \"know\" this, we're just calculating this for supposition for simulations.\n",
    "        '''\n",
    "        \n",
    "        return (self.estimated_roi + 100) / (100 * Market.convert_american_to_decimal(self.line))"
   ]
  },
  {
   "cell_type": "code",
   "execution_count": 259,
   "id": "d53802bd-fa9f-40d7-9680-e6624b174e71",
   "metadata": {},
   "outputs": [
    {
     "data": {
      "text/plain": [
       "0.661111111111111"
      ]
     },
     "execution_count": 259,
     "metadata": {},
     "output_type": "execute_result"
    }
   ],
   "source": []
  },
  {
   "cell_type": "code",
   "execution_count": 260,
   "id": "48d11e97-0e87-4a3b-a9d5-e35ccad3f6b5",
   "metadata": {},
   "outputs": [],
   "source": [
    "def get_payout(bet, outcome):\n",
    "    if outcome:\n",
    "        payout = 1\n",
    "        \n",
    "    else:\n",
    "        payout = -bet.bet_size\n",
    "        \n",
    "    return payout"
   ]
  },
  {
   "cell_type": "code",
   "execution_count": 303,
   "id": "c18954f9-15a2-4cbd-aca4-38a6bcb7a25c",
   "metadata": {},
   "outputs": [
    {
     "data": {
      "text/plain": [
       "11.999999999999988"
      ]
     },
     "execution_count": 303,
     "metadata": {},
     "output_type": "execute_result"
    }
   ],
   "source": [
    "bet = OneBet(120, 3.8)\n",
    "bet.probability\n",
    "\n",
    "trial_results = np.random.binomial(\n",
    "    n=1,\n",
    "    p=bet.probability,\n",
    "    size=100\n",
    ")\n",
    "\n",
    "sum([get_payout(bet, outcome) for outcome in trial_results])"
   ]
  },
  {
   "cell_type": "code",
   "execution_count": 336,
   "id": "9ef1674e-5e11-47b2-b6af-b80d1bfb9c75",
   "metadata": {},
   "outputs": [
    {
     "name": "stdout",
     "output_type": "stream",
     "text": [
      "-5\n",
      "-4\n",
      "-3\n",
      "-2\n",
      "-1\n",
      "0\n",
      "1\n",
      "2\n",
      "3\n",
      "4\n",
      "5\n"
     ]
    }
   ],
   "source": [
    "rois = np.arange(-5,6,1)\n",
    "n_bets = [10, 100, 500, 1000]\n",
    "n_trials = 10000\n",
    "\n",
    "lines = [-200, -130, 130, 200]\n",
    "\n",
    "trial_results = []\n",
    "\n",
    "for roi in rois:\n",
    "    print(roi)\n",
    "    for line in lines:\n",
    "        for bets in n_bets:\n",
    "            bet = OneBet(line, roi)\n",
    "\n",
    "            for trial in range(n_trials):\n",
    "                outcomes = np.random.binomial(\n",
    "                    n=1,\n",
    "                    p=bet.probability,\n",
    "                    size=bets\n",
    "                )\n",
    "\n",
    "                row = {\n",
    "                    'roi': roi,\n",
    "                    'n_bets': bets,\n",
    "                    'line': line,\n",
    "                    'PnL': sum([get_payout(bet, outcome) for outcome in outcomes]),\n",
    "                    'trial': trial\n",
    "                }\n",
    "\n",
    "                trial_results.append(row)\n",
    "            \n",
    "        \n",
    "        "
   ]
  },
  {
   "cell_type": "code",
   "execution_count": 337,
   "id": "fdc7132d-c743-43fb-bcf5-938283f238a8",
   "metadata": {},
   "outputs": [
    {
     "data": {
      "text/html": [
       "<div>\n",
       "<style scoped>\n",
       "    .dataframe tbody tr th:only-of-type {\n",
       "        vertical-align: middle;\n",
       "    }\n",
       "\n",
       "    .dataframe tbody tr th {\n",
       "        vertical-align: top;\n",
       "    }\n",
       "\n",
       "    .dataframe thead th {\n",
       "        text-align: right;\n",
       "    }\n",
       "</style>\n",
       "<table border=\"1\" class=\"dataframe\">\n",
       "  <thead>\n",
       "    <tr style=\"text-align: right;\">\n",
       "      <th></th>\n",
       "      <th>roi</th>\n",
       "      <th>n_bets</th>\n",
       "      <th>line</th>\n",
       "      <th>profitability</th>\n",
       "    </tr>\n",
       "  </thead>\n",
       "  <tbody>\n",
       "    <tr>\n",
       "      <th>0</th>\n",
       "      <td>-5</td>\n",
       "      <td>10</td>\n",
       "      <td>-200</td>\n",
       "      <td>0.4692</td>\n",
       "    </tr>\n",
       "    <tr>\n",
       "      <th>1</th>\n",
       "      <td>-5</td>\n",
       "      <td>10</td>\n",
       "      <td>-130</td>\n",
       "      <td>0.4712</td>\n",
       "    </tr>\n",
       "    <tr>\n",
       "      <th>2</th>\n",
       "      <td>-5</td>\n",
       "      <td>10</td>\n",
       "      <td>130</td>\n",
       "      <td>0.4069</td>\n",
       "    </tr>\n",
       "    <tr>\n",
       "      <th>3</th>\n",
       "      <td>-5</td>\n",
       "      <td>10</td>\n",
       "      <td>200</td>\n",
       "      <td>0.4034</td>\n",
       "    </tr>\n",
       "    <tr>\n",
       "      <th>4</th>\n",
       "      <td>-5</td>\n",
       "      <td>100</td>\n",
       "      <td>-200</td>\n",
       "      <td>0.2509</td>\n",
       "    </tr>\n",
       "    <tr>\n",
       "      <th>...</th>\n",
       "      <td>...</td>\n",
       "      <td>...</td>\n",
       "      <td>...</td>\n",
       "      <td>...</td>\n",
       "    </tr>\n",
       "    <tr>\n",
       "      <th>171</th>\n",
       "      <td>5</td>\n",
       "      <td>500</td>\n",
       "      <td>200</td>\n",
       "      <td>0.7868</td>\n",
       "    </tr>\n",
       "    <tr>\n",
       "      <th>172</th>\n",
       "      <td>5</td>\n",
       "      <td>1000</td>\n",
       "      <td>-200</td>\n",
       "      <td>0.9902</td>\n",
       "    </tr>\n",
       "    <tr>\n",
       "      <th>173</th>\n",
       "      <td>5</td>\n",
       "      <td>1000</td>\n",
       "      <td>-130</td>\n",
       "      <td>0.9638</td>\n",
       "    </tr>\n",
       "    <tr>\n",
       "      <th>174</th>\n",
       "      <td>5</td>\n",
       "      <td>1000</td>\n",
       "      <td>130</td>\n",
       "      <td>0.9227</td>\n",
       "    </tr>\n",
       "    <tr>\n",
       "      <th>175</th>\n",
       "      <td>5</td>\n",
       "      <td>1000</td>\n",
       "      <td>200</td>\n",
       "      <td>0.8624</td>\n",
       "    </tr>\n",
       "  </tbody>\n",
       "</table>\n",
       "<p>176 rows × 4 columns</p>\n",
       "</div>"
      ],
      "text/plain": [
       "     roi  n_bets  line  profitability\n",
       "0     -5      10  -200         0.4692\n",
       "1     -5      10  -130         0.4712\n",
       "2     -5      10   130         0.4069\n",
       "3     -5      10   200         0.4034\n",
       "4     -5     100  -200         0.2509\n",
       "..   ...     ...   ...            ...\n",
       "171    5     500   200         0.7868\n",
       "172    5    1000  -200         0.9902\n",
       "173    5    1000  -130         0.9638\n",
       "174    5    1000   130         0.9227\n",
       "175    5    1000   200         0.8624\n",
       "\n",
       "[176 rows x 4 columns]"
      ]
     },
     "execution_count": 337,
     "metadata": {},
     "output_type": "execute_result"
    }
   ],
   "source": [
    "results = (\n",
    "    pd.DataFrame(trial_results)\n",
    "    .assign(\n",
    "        profitable = lambda x: x['PnL'].transform(lambda s: 1 if s >= 0 else 0)\n",
    "    )\n",
    "    .groupby(['roi', 'n_bets', 'line'])\n",
    "    .agg(\n",
    "        profitability = ('profitable', 'mean')\n",
    "    )\n",
    "    .reset_index()\n",
    ")\n",
    "\n",
    "results"
   ]
  },
  {
   "cell_type": "code",
   "execution_count": 338,
   "id": "70b13a6b-a23e-4b0b-928e-531ba85a99fc",
   "metadata": {},
   "outputs": [],
   "source": [
    "import seaborn as sns"
   ]
  },
  {
   "cell_type": "code",
   "execution_count": 339,
   "id": "39b869a1-a031-40da-bd1e-4aead1aeb207",
   "metadata": {},
   "outputs": [
    {
     "data": {
      "text/plain": [
       "<seaborn.axisgrid.FacetGrid at 0x2ab328fa0>"
      ]
     },
     "execution_count": 339,
     "metadata": {},
     "output_type": "execute_result"
    },
    {
     "data": {
      "image/png": "[encoded data removed]",
      "text/plain": [
       "<Figure size 881.25x600 with 11 Axes>"
      ]
     },
     "metadata": {},
     "output_type": "display_data"
    }
   ],
   "source": [
    "sns.relplot(\n",
    "    data=results,\n",
    "    x='n_bets',\n",
    "    y='profitability',\n",
    "    hue='line',\n",
    "    col='roi',\n",
    "    kind='line',\n",
    "    marker='o',\n",
    "    col_wrap=4,\n",
    "    height=2\n",
    ")"
   ]
  },
  {
   "cell_type": "markdown",
   "id": "f507e9a0-cffb-4819-a067-a5856f547b61",
   "metadata": {},
   "source": [
    "You have less variance with favorites. I wonder if the lines over-charge for that."
   ]
  },
  {
   "cell_type": "code",
   "execution_count": 343,
   "id": "c1567d4d-1340-4e50-9d15-a8c9159b9c77",
   "metadata": {},
   "outputs": [
    {
     "data": {
      "text/html": [
       "<div>\n",
       "<style scoped>\n",
       "    .dataframe tbody tr th:only-of-type {\n",
       "        vertical-align: middle;\n",
       "    }\n",
       "\n",
       "    .dataframe tbody tr th {\n",
       "        vertical-align: top;\n",
       "    }\n",
       "\n",
       "    .dataframe thead th {\n",
       "        text-align: right;\n",
       "    }\n",
       "</style>\n",
       "<table border=\"1\" class=\"dataframe\">\n",
       "  <thead>\n",
       "    <tr style=\"text-align: right;\">\n",
       "      <th></th>\n",
       "      <th>roi</th>\n",
       "      <th>n_bets</th>\n",
       "      <th>line</th>\n",
       "      <th>profitability</th>\n",
       "    </tr>\n",
       "  </thead>\n",
       "  <tbody>\n",
       "    <tr>\n",
       "      <th>28</th>\n",
       "      <td>-4</td>\n",
       "      <td>1000</td>\n",
       "      <td>-200</td>\n",
       "      <td>0.0392</td>\n",
       "    </tr>\n",
       "    <tr>\n",
       "      <th>156</th>\n",
       "      <td>4</td>\n",
       "      <td>1000</td>\n",
       "      <td>-200</td>\n",
       "      <td>0.9664</td>\n",
       "    </tr>\n",
       "    <tr>\n",
       "      <th>29</th>\n",
       "      <td>-4</td>\n",
       "      <td>1000</td>\n",
       "      <td>-130</td>\n",
       "      <td>0.0755</td>\n",
       "    </tr>\n",
       "    <tr>\n",
       "      <th>157</th>\n",
       "      <td>4</td>\n",
       "      <td>1000</td>\n",
       "      <td>-130</td>\n",
       "      <td>0.9155</td>\n",
       "    </tr>\n",
       "    <tr>\n",
       "      <th>30</th>\n",
       "      <td>-4</td>\n",
       "      <td>1000</td>\n",
       "      <td>130</td>\n",
       "      <td>0.1369</td>\n",
       "    </tr>\n",
       "    <tr>\n",
       "      <th>158</th>\n",
       "      <td>4</td>\n",
       "      <td>1000</td>\n",
       "      <td>130</td>\n",
       "      <td>0.8689</td>\n",
       "    </tr>\n",
       "    <tr>\n",
       "      <th>31</th>\n",
       "      <td>-4</td>\n",
       "      <td>1000</td>\n",
       "      <td>200</td>\n",
       "      <td>0.1802</td>\n",
       "    </tr>\n",
       "    <tr>\n",
       "      <th>159</th>\n",
       "      <td>4</td>\n",
       "      <td>1000</td>\n",
       "      <td>200</td>\n",
       "      <td>0.8107</td>\n",
       "    </tr>\n",
       "  </tbody>\n",
       "</table>\n",
       "</div>"
      ],
      "text/plain": [
       "     roi  n_bets  line  profitability\n",
       "28    -4    1000  -200         0.0392\n",
       "156    4    1000  -200         0.9664\n",
       "29    -4    1000  -130         0.0755\n",
       "157    4    1000  -130         0.9155\n",
       "30    -4    1000   130         0.1369\n",
       "158    4    1000   130         0.8689\n",
       "31    -4    1000   200         0.1802\n",
       "159    4    1000   200         0.8107"
      ]
     },
     "execution_count": 343,
     "metadata": {},
     "output_type": "execute_result"
    }
   ],
   "source": [
    "(\n",
    "    results\n",
    "    .query('roi in [-4,4]')\n",
    "    .query('n_bets==1000')\n",
    "    .sort_values(\n",
    "        by=['n_bets', 'line', 'profitability']\n",
    "    )\n",
    ")"
   ]
  },
  {
   "cell_type": "markdown",
   "id": "ab5caef2-36d3-4ac8-8813-38e65e79df6f",
   "metadata": {},
   "source": [
    "- If you bet +200 odds with a 4% ROI, you'll be profitable in 81% of 1000-bet simulations.\n",
    "- If you bet -200 odds with a 4% ROI, you'll be profitable in 97% of 1000-bet simulations."
   ]
  },
  {
   "cell_type": "code",
   "execution_count": null,
   "id": "19469107-26fe-4712-81df-b824f5eaf205",
   "metadata": {},
   "outputs": [],
   "source": []
  }
 ],
 "metadata": {
  "kernelspec": {
   "display_name": "sports-betting",
   "language": "python",
   "name": "sports-betting"
  },
  "language_info": {
   "codemirror_mode": {
    "name": "ipython",
    "version": 3
   },
   "file_extension": ".py",
   "mimetype": "text/x-python",
   "name": "python",
   "nbconvert_exporter": "python",
   "pygments_lexer": "ipython3",
   "version": "3.9.10"
  }
 },
 "nbformat": 4,
 "nbformat_minor": 5
}
