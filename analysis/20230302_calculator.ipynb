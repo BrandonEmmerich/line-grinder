{
 "cells": [
  {
   "cell_type": "markdown",
   "id": "39786ee5-ec73-40b2-a465-86382682bddd",
   "metadata": {},
   "source": [
    "# Calculator\n",
    "\n",
    "- Hold\n",
    "- No vig probability"
   ]
  },
  {
   "cell_type": "code",
   "execution_count": 1,
   "id": "ed40971c-41b7-42fb-963e-34403b8a41d3",
   "metadata": {},
   "outputs": [],
   "source": [
    "from dataclasses import dataclass\n",
    "import numpy as np"
   ]
  },
  {
   "cell_type": "code",
   "execution_count": 2,
   "id": "471d16f6-dfb0-475f-bbbe-3d9b82c91a6a",
   "metadata": {},
   "outputs": [],
   "source": [
    "class Market:\n",
    "    '''\n",
    "    Sportsbetting convience tools.\n",
    "    '''\n",
    "    def __init__(self, line_1=None, line_2=None):\n",
    "        self.line_1 = line_1\n",
    "        self.line_2 = line_2\n",
    "        self.probability_1 = None\n",
    "        self.probability_2 = None\n",
    "        self.hold = None\n",
    "        \n",
    "        # Calculate the hold\n",
    "        self.get_hold()\n",
    "    \n",
    "    @staticmethod    \n",
    "    def _get_implied_probability(line):\n",
    "        '''\n",
    "        Assuming American Odds\n",
    "        '''\n",
    "        if line >= 100:\n",
    "            return 100 / (100 + line)\n",
    "        else:\n",
    "            return line / (-100 + line)\n",
    "        \n",
    "    def get_hold(self):\n",
    "        self.probability_1 = self._get_implied_probability(self.line_1)\n",
    "        self.probability_2 = self._get_implied_probability(self.line_2)\n",
    "        self._total_probability = self.probability_1 + self.probability_2\n",
    "        \n",
    "        self.hold = 100 * (self._total_probability - 1)\n",
    "        \n",
    "        print(f'Hold: {round(self.hold,2)}%')\n",
    "        \n",
    "    def get_vig_free_probability(self):\n",
    "        return self.probability_1 / self._total_probability\n",
    "    \n",
    "    @staticmethod\n",
    "    def convert_american_to_decimal(square_line):\n",
    "        if square_line > 0:\n",
    "            return (square_line / 100) + 1\n",
    "        else:\n",
    "            return square_line * (100 / square_line ) + 1\n",
    "        "
   ]
  },
  {
   "cell_type": "code",
   "execution_count": 3,
   "id": "939e2671-0662-4845-9bf8-25e57c06eb9b",
   "metadata": {},
   "outputs": [
    {
     "name": "stdout",
     "output_type": "stream",
     "text": [
      "Hold: 3.29%\n"
     ]
    }
   ],
   "source": [
    "pinny = Market(line_1=131, line_2=-150)"
   ]
  },
  {
   "cell_type": "code",
   "execution_count": 4,
   "id": "4935ca6e-675c-4f9d-ab84-4957a5950eef",
   "metadata": {},
   "outputs": [
    {
     "name": "stdout",
     "output_type": "stream",
     "text": [
      "Hold: 4.4%\n"
     ]
    }
   ],
   "source": [
    "square = Market(line_1=165, line_2=-200)"
   ]
  },
  {
   "cell_type": "code",
   "execution_count": 5,
   "id": "67559aaa-9262-45d0-b2a5-a6bb2ab7ad34",
   "metadata": {},
   "outputs": [
    {
     "name": "stdout",
     "output_type": "stream",
     "text": [
      "Estimated ROI:\n"
     ]
    },
    {
     "data": {
      "text/plain": [
       "4.2"
      ]
     },
     "execution_count": 5,
     "metadata": {},
     "output_type": "execute_result"
    }
   ],
   "source": [
    "print('Estimated ROI:')\n",
    "round(100 * (pinny.get_vig_free_probability() - square.probability_1),1)"
   ]
  },
  {
   "cell_type": "code",
   "execution_count": 6,
   "id": "11adc217-8574-49e1-8ca4-5ee0ebd4077c",
   "metadata": {},
   "outputs": [
    {
     "name": "stdout",
     "output_type": "stream",
     "text": [
      "Estimated Edge:\n"
     ]
    },
    {
     "data": {
      "text/plain": [
       "11.1"
      ]
     },
     "execution_count": 6,
     "metadata": {},
     "output_type": "execute_result"
    }
   ],
   "source": [
    "print('Estimated Edge:')\n",
    "round(100 * (square.convert_american_to_decimal(165) * pinny.get_vig_free_probability() - 1),1)"
   ]
  },
  {
   "cell_type": "markdown",
   "id": "b010b329-6f86-4d1f-ae20-bdf57be35f64",
   "metadata": {},
   "source": [
    "## Estimate Push Frequency\n",
    "\n",
    "- Over the lower number and under the higher number."
   ]
  },
  {
   "cell_type": "code",
   "execution_count": 69,
   "id": "21dc3849-afdc-4919-bbd9-1b3652e9b9f1",
   "metadata": {},
   "outputs": [
    {
     "name": "stdout",
     "output_type": "stream",
     "text": [
      "Hold: 3.03%\n"
     ]
    }
   ],
   "source": [
    "six_and_a_half = Market(-122, 108)"
   ]
  },
  {
   "cell_type": "code",
   "execution_count": 70,
   "id": "58728556-ab28-4828-bee9-8099ca9321f6",
   "metadata": {},
   "outputs": [
    {
     "name": "stdout",
     "output_type": "stream",
     "text": [
      "Hold: 3.86%\n"
     ]
    }
   ],
   "source": [
    "seven_and_a_half = Market(-219, 184)"
   ]
  },
  {
   "cell_type": "code",
   "execution_count": 81,
   "id": "f48205fe-0eaa-4d23-bd62-1ebbe82a633f",
   "metadata": {},
   "outputs": [
    {
     "data": {
      "text/plain": [
       "12.760635257190367"
      ]
     },
     "execution_count": 81,
     "metadata": {},
     "output_type": "execute_result"
    }
   ],
   "source": [
    "# Vig free under on the 7.5 less vig free over on the 6.5\n",
    "\n",
    "100 * (seven_and_a_half.get_vig_free_probability() - six_and_a_half.get_vig_free_probability())"
   ]
  },
  {
   "cell_type": "code",
   "execution_count": 75,
   "id": "9d1d1c68-98d6-418f-bf34-938a623f6605",
   "metadata": {},
   "outputs": [
    {
     "data": {
      "text/plain": [
       "0.3614457831325302"
      ]
     },
     "execution_count": 75,
     "metadata": {},
     "output_type": "execute_result"
    }
   ],
   "source": [
    "square.get_vig_free_probability()"
   ]
  },
  {
   "cell_type": "code",
   "execution_count": 80,
   "id": "5b4a13d3-2a1f-4c98-b963-53e8cc977562",
   "metadata": {},
   "outputs": [
    {
     "data": {
      "text/plain": [
       "0.8244578313253008"
      ]
     },
     "execution_count": 80,
     "metadata": {},
     "output_type": "execute_result"
    }
   ],
   "source": [
    "0.36 * (16.5) + 0.127 * 10  + (1 - square.get_vig_free_probability()) * -10"
   ]
  },
  {
   "cell_type": "markdown",
   "id": "4a6cfff0-fb63-4c4e-9002-2e97cd65e6f7",
   "metadata": {},
   "source": [
    "## Another Market"
   ]
  },
  {
   "cell_type": "code",
   "execution_count": 140,
   "id": "df9b31b1-693c-4475-84af-a9c5d25abad0",
   "metadata": {},
   "outputs": [
    {
     "name": "stdout",
     "output_type": "stream",
     "text": [
      "Hold: 3.96%\n"
     ]
    },
    {
     "data": {
      "text/plain": [
       "0.447405997144217"
      ]
     },
     "execution_count": 140,
     "metadata": {},
     "output_type": "execute_result"
    }
   ],
   "source": [
    "consensus = Market(115, -135)\n",
    "consensus.get_vig_free_probability()"
   ]
  },
  {
   "cell_type": "code",
   "execution_count": 141,
   "id": "488924bd-c94d-46ea-a938-e8682e0ba55a",
   "metadata": {},
   "outputs": [
    {
     "name": "stdout",
     "output_type": "stream",
     "text": [
      "Hold: 4.42%\n"
     ]
    },
    {
     "data": {
      "text/plain": [
       "0.38930264048747465"
      ]
     },
     "execution_count": 141,
     "metadata": {},
     "output_type": "execute_result"
    }
   ],
   "source": [
    "square = Market(line_1=146, line_2=-176)\n",
    "square.get_vig_free_probability()"
   ]
  },
  {
   "cell_type": "code",
   "execution_count": 137,
   "id": "d6607c7a-f9a0-4a79-9b02-cff5f51b7f79",
   "metadata": {},
   "outputs": [
    {
     "name": "stdout",
     "output_type": "stream",
     "text": [
      "Estimated Edge:\n"
     ]
    },
    {
     "data": {
      "text/plain": [
       "10.1"
      ]
     },
     "execution_count": 137,
     "metadata": {},
     "output_type": "execute_result"
    }
   ],
   "source": [
    "print('Estimated Edge:')\n",
    "round(100 * (square.convert_american_to_decimal(146) * consensus.get_vig_free_probability() - 1),1)"
   ]
  },
  {
   "cell_type": "markdown",
   "id": "f326832d-c74a-41b7-98f3-a33196ecebf4",
   "metadata": {},
   "source": [
    "## Better Class"
   ]
  },
  {
   "cell_type": "code",
   "execution_count": 7,
   "id": "57145562-68d9-4aa8-a92d-4cc326302f77",
   "metadata": {},
   "outputs": [],
   "source": [
    "class Market:\n",
    "    '''\n",
    "    Sportsbetting convience tools.\n",
    "    '''\n",
    "    def __init__(self, line_1=None, line_2=None):\n",
    "        self.line_1 = line_1\n",
    "        self.line_2 = line_2\n",
    "        self.probability_1 = None\n",
    "        self.probability_2 = None\n",
    "        self.hold = None\n",
    "        self.vig_free_1 = None \n",
    "        self.vig_free_2 = None\n",
    "        \n",
    "        # Calculate the hold\n",
    "        self._get_market_stats()\n",
    "    \n",
    "    @staticmethod    \n",
    "    def _get_implied_probability(line):\n",
    "        '''\n",
    "        Assuming American Odds\n",
    "        '''\n",
    "        if line >= 100:\n",
    "            return 100 / (100 + line)\n",
    "        else:\n",
    "            return line / (-100 + line)\n",
    "        \n",
    "    def _get_market_stats(self):\n",
    "        '''\n",
    "        Get implied probabilities, the hold, and the vig free probabilities for this market.\n",
    "        '''\n",
    "        ## Implied Probabilities:\n",
    "        self.probability_1 = self._get_implied_probability(self.line_1)\n",
    "        self.probability_2 = self._get_implied_probability(self.line_2)\n",
    "        \n",
    "        ## Hold\n",
    "        self._total_probability = self.probability_1 + self.probability_2\n",
    "        self.hold = 100 * (self._total_probability - 1)\n",
    "        \n",
    "        ## Vig Gree\n",
    "        \n",
    "        self.vig_free_1 = self.probability_1 / self._total_probability\n",
    "        self.vig_free_2 = self.probability_2 / self._total_probability\n",
    "\n",
    "    @staticmethod\n",
    "    def convert_american_to_decimal(line):\n",
    "        if abs(line) < 100:\n",
    "            raise ValueError('American Odds must be quoted like -110, +120')\n",
    "        \n",
    "        if line > 0:\n",
    "            return (line / 100) + 1\n",
    "        else:\n",
    "            return (-100 / line ) + 1\n",
    "        \n",
    "    def calculate_edge(self, square_line):\n",
    "        return round(100 * (self.convert_american_to_decimal(line=square_line) * self.vig_free_1 - 1),1)\n",
    "        "
   ]
  },
  {
   "cell_type": "code",
   "execution_count": 8,
   "id": "13800216-347c-40a0-bee6-1ff81558c2fe",
   "metadata": {},
   "outputs": [
    {
     "name": "stdout",
     "output_type": "stream",
     "text": [
      "3.2900432900432985\n",
      "0.4191114836546521\n"
     ]
    }
   ],
   "source": [
    "pinny = Market(line_1=131, line_2=-150)\n",
    "print(pinny.hold)\n",
    "print(pinny.vig_free_1)"
   ]
  },
  {
   "cell_type": "code",
   "execution_count": 9,
   "id": "c0e54e88-8b78-4873-845f-dbd517957133",
   "metadata": {},
   "outputs": [
    {
     "name": "stdout",
     "output_type": "stream",
     "text": [
      "4.402515723270439\n",
      "0.3614457831325302\n"
     ]
    }
   ],
   "source": [
    "square = Market(line_1=165, line_2=-200)\n",
    "print(square.hold)\n",
    "print(square.vig_free_1)"
   ]
  },
  {
   "cell_type": "code",
   "execution_count": 10,
   "id": "ca7de908-5c5b-47a1-96ca-5db53e18f31e",
   "metadata": {},
   "outputs": [
    {
     "data": {
      "text/plain": [
       "11.1"
      ]
     },
     "execution_count": 10,
     "metadata": {},
     "output_type": "execute_result"
    }
   ],
   "source": [
    "pinny.calculate_edge(square_line=165)"
   ]
  },
  {
   "cell_type": "code",
   "execution_count": 11,
   "id": "57ef5f75-f1a0-49ea-8993-309581bd4d97",
   "metadata": {},
   "outputs": [
    {
     "data": {
      "text/plain": [
       "5.2"
      ]
     },
     "execution_count": 11,
     "metadata": {},
     "output_type": "execute_result"
    }
   ],
   "source": [
    "consensus_my_side = 165\n",
    "consensus_other_side = -213\n",
    "soft_line = 195\n",
    "\n",
    "consensus = Market(consensus_my_side, consensus_other_side)\n",
    "consensus.calculate_edge(soft_line)"
   ]
  },
  {
   "cell_type": "code",
   "execution_count": 12,
   "id": "8797484a-4819-41e8-90e3-bb61c127a2b6",
   "metadata": {},
   "outputs": [
    {
     "data": {
      "text/plain": [
       "5.2"
      ]
     },
     "execution_count": 12,
     "metadata": {},
     "output_type": "execute_result"
    }
   ],
   "source": [
    "consensus_my_side = 165\n",
    "consensus_other_side = -213\n",
    "soft_line = 195\n",
    "\n",
    "consensus = Market(consensus_my_side, consensus_other_side)\n",
    "consensus.calculate_edge(soft_line)"
   ]
  },
  {
   "cell_type": "code",
   "execution_count": 15,
   "id": "b1f52d04-a662-47cf-b4ce-fa7b994e6e4e",
   "metadata": {},
   "outputs": [
    {
     "data": {
      "text/plain": [
       "6.9"
      ]
     },
     "execution_count": 15,
     "metadata": {},
     "output_type": "execute_result"
    }
   ],
   "source": [
    "consensus_my_side = -110\n",
    "consensus_other_side = -106\n",
    "soft_line = 112\n",
    "\n",
    "consensus = Market(consensus_my_side, consensus_other_side)\n",
    "consensus.calculate_edge(soft_line)"
   ]
  },
  {
   "cell_type": "code",
   "execution_count": 21,
   "id": "9fb9d70a-9fa2-45f0-8be3-53d3a7ee365a",
   "metadata": {},
   "outputs": [
    {
     "data": {
      "text/plain": [
       "3.4"
      ]
     },
     "execution_count": 21,
     "metadata": {},
     "output_type": "execute_result"
    }
   ],
   "source": [
    "consensus_my_side = -205\n",
    "consensus_other_side = 162\n",
    "soft_line = -161\n",
    "\n",
    "consensus = Market(consensus_my_side, consensus_other_side)\n",
    "consensus.calculate_edge(soft_line)"
   ]
  },
  {
   "cell_type": "code",
   "execution_count": null,
   "id": "d2df922b-d788-407f-97fb-072655ed38e6",
   "metadata": {},
   "outputs": [],
   "source": []
  }
 ],
 "metadata": {
  "kernelspec": {
   "display_name": "sports-betting",
   "language": "python",
   "name": "sports-betting"
  },
  "language_info": {
   "codemirror_mode": {
    "name": "ipython",
    "version": 3
   },
   "file_extension": ".py",
   "mimetype": "text/x-python",
   "name": "python",
   "nbconvert_exporter": "python",
   "pygments_lexer": "ipython3",
   "version": "3.9.10"
  }
 },
 "nbformat": 4,
 "nbformat_minor": 5
}
