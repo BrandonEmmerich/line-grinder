{
 "cells": [
  {
   "cell_type": "markdown",
   "id": "e2d8fe75-b146-4c09-9556-b1b02dce79b7",
   "metadata": {},
   "source": [
    "# Wynn"
   ]
  },
  {
   "cell_type": "code",
   "execution_count": 1,
   "id": "cef22362-015d-4b0b-ba12-1b3a72ace522",
   "metadata": {},
   "outputs": [],
   "source": [
    "matchup_id = '10283668'\n",
    "url = f'https://ny.wynnbet.com/api/events/{matchup_id}/detail-markets?pageTemplateId=370'\n"
   ]
  },
  {
   "cell_type": "code",
   "execution_count": 2,
   "id": "b95a9ec6-3cf9-448f-afe4-eff13dc57f93",
   "metadata": {},
   "outputs": [],
   "source": [
    "import pandas as pd\n",
    "import requests\n"
   ]
  },
  {
   "cell_type": "code",
   "execution_count": 3,
   "id": "08efee4f-4eca-4c58-9f20-964411d95328",
   "metadata": {},
   "outputs": [],
   "source": [
    "HEADERS_WYNN =  {\n",
    "    'authority': 'ny.wynnbet.com',\n",
    "    'accept': 'application/json, text/plain, */*',\n",
    "    'accept-language': 'en-US,en;q=0.9',\n",
    "    'app-name': 'WYNN_NY',\n",
    "#    'betbull-temp-id': '9c011b41-a228-45b0-a91a-d76bc22cfe20',\n",
    "    'client-type': 'DESKTOPWEB',\n",
    "    # 'cookie': '_pxhd=536978bc27c2123be490e35308b8cbef6584c310239dd7d68d6ec52bf7f488f5:f2f3af86-b5f1-11ed-9aaf-564369416167; _gcl_aw=GCL.1677428629.Cj0KCQiAo-yfBhD_ARIsANr56g55EcXMHkSGX9eDneSXGy_YGquL8CfgBAKGd31sDwC3C2MgoaNZy-saAiRFEALw_wcB; _gcl_dc=GCL.1677428629.Cj0KCQiAo-yfBhD_ARIsANr56g55EcXMHkSGX9eDneSXGy_YGquL8CfgBAKGd31sDwC3C2MgoaNZy-saAiRFEALw_wcB; _gcl_au=1.1.261534641.1677428629; _fbp=fb.1.1677428629212.1518862819; _scid=6230f25e-6e48-476c-8b1f-268384f1a8a2; _pxvid=f2f3af86-b5f1-11ed-9aaf-564369416167; _gac_UA-70763449-4=1.1677428630.Cj0KCQiAo-yfBhD_ARIsANr56g55EcXMHkSGX9eDneSXGy_YGquL8CfgBAKGd31sDwC3C2MgoaNZy-saAiRFEALw_wcB; afUserId=efcbfa02-de98-4f9c-a9fa-0068a2f3501d-p; pxcts=da2e76f1-b92a-11ed-998d-5452754e6f6d; clientType=DESKTOPWEB; locationCheckProvider=Desktop; __gtm_campaign_url=https%3A%2F%2Fny.wynnbet.com%2Fregister%3Fbtag%3Da_2832b_479c_ny%26promo_code%3D%26pid%3Dincomeaccess_int%26af_siteid%3D5025-8-259-2832%26c%3Dny%26af_sub1%3Da_2832b_479c_ny%26siteid%3D2832; tempId=9c011b41-a228-45b0-a91a-d76bc22cfe20; btag=a_2832b_479c_ny; _gid=GA1.2.1646158413.1678037894; _ga=GA1.2.462083990.1677428629; _ga_3NCMWJXTCP=GS1.1.1678037894.2.1.1678037920.0.0.0; bm_sz=13DF36865D5020416809F4408E295484~YAAQGmvcF+dE4HSGAQAAqbjashOhhhGxavyh1fYrDuCszYPhuoVCFLK7wOv0pwShBrBzud7AoBm2LW1WB5fLnAa4PQpFCDQY0aOZS5QT2d/MLimAzKfl+0R08dwrC4Rgn25Kr8fziArWNL593JIf+WPOJs99n4gSlL1tBaKPOsOtj94WoKHBEG3V4aL/ZlGsJzfaEbtzIXIgIzsK7nV4zMlrusvHqZsIiRtPadOna6uFF3Omr+snSPy6HeNtXZTchFWcNslR9MAXoOvExHKDRiYe9nR4qgnlOrctK6etAxxxHOkH~3687479~3356214; bm_mi=2147F909E9724D8595A3D9AF996BD8D7~YAAQGmvcF6RF4HSGAQAAdbzashNq+dV0WRM2Ye1wL8TqzuGcb8N0MYKTKGKelFtYksGwFcQHeQ8TBC6baXbghgSEROGISHCUQwi/43URezyScMhHBzv9OIBAaEp6tVCiEtXUpcuH9gB7vE0NvXPLNKs+VBHMj/2YEc3p1iPczxvZQuNb9r8TS7JKlF47VDf/yCZQwBuzoTwcShiieXdtiEXNDmMIGwdGUQvdSJtYVpqy7zgbmmK9a+Uh81solh/gl6RaCVxoEBCc+qNkGL8H30O1FCXt7k6P0qQKwmDqvccW4F6AIhOCtj0B2b4woOmkFiIZfxGV~1; __gtm_referrer=https%3A%2F%2Fwww.google.com%2F; _abck=8CB06DF856405F985BAC1190586563BF~0~YAAQGmvcFw5G4HSGAQAAK7/asgnckOcEOExP70qgrYswPPoA2C3zPPESkY5TXIfas4SnbK37HDVgRAvCcSENVq6N4nrpZ/KY8EDAgozXAj+n5q5IRYumguU6+/Ws5Fp0ANeRA8qVUAIcxvi4cxQ16VvHKYqbvLdkeEcPftuEOhWIM2jTpZfL7nE4tjRufCy0Hn6oBonRaE+ygs4rvk2F2Bg8nJhERcLu3yzU0R0AOTToJHj9UWiC10J6kbDkIDPPHYW25KteC9LBR1t8HlNDiVz/lU9C1NJ44WR8zk8GiPGnEiP5otTJeSuuofsuRzKl0gI5fdWcXBG4A3QBzEaBw5HkEBcfskyXNoKgssiA+04nAOrFcYY1ceg3wRb080speiE2e35qp3RDzHPr4VIBUYLMrlseGqaOHg==~-1~-1~1678041445; ak_bmsc=E0C2AF02A424696F16AA84D3C67FB2EE~000000000000000000000000000000~YAAQGmvcF61H4HSGAQAAScfashMH8CGZBMwX+7dJezrkUkY5LGXByAEdJFraIVOhNncrLniWz4aTucZIcSSwuuRY66sKcenhS0t7S30Mg1lXUApjKT81n+V9g9tEDocw8oA3R5e2tlanQwV2CfsHINf5EUjr28c51GJRZ3R0LO2E7oRQ2OoWNuklrQ2ZoiLIZy8H8zBcVVOL4TzIXrjNClRlQwi17aZFg27cuWt0SZxVZAbqSnnRbAHtf29IcJ0U3j6/CGYKB5a9/1g5xRWxQePgXMaTGsSXTdfMd69p+CX4xPnaYE3y2rnTMvjU22xGFvZgHtkCv3xcR7CCBv/pNBnKpDPRWBqJqaDe85S42EvKUll4KJfzSuvcr2Yxc6o2oPckW7gHohmzzyW1VxaHh6sSvJziNW2t6xPS9ICQsaDT/cu0Bs7WKA==; AF_SYNC=1678037927729; __cf_bm=DUyw3flxcx16Yy.fS60x_6yghHTCYtP89mQcxKNP6Pk-1678037928-0-AdFJxYTd0rAebWsK0oTSRVsxenxE/F6tsjPIIUZoX845xscT7pcyGGgq6R0CUTdlX/TmBVUaHLBpsUvsYy9j5SY=; _schn=_9eu98k; _sctr=1|1677992400000; _uetsid=81727f80bb7c11ed99e713057083975e; _uetvid=f34fb110b5f111ed95a48d64995d7f04; ajs_anonymous_id=34c19e35-2c7f-41c8-8e1c-6244fec50da6; _px2=eyJ1IjoiOWRlNWI4MTAtYmI3Yy0xMWVkLThlNDQtYWRmOGY2NzMxYWZmIiwidiI6ImYyZjNhZjg2LWI1ZjEtMTFlZC05YWFmLTU2NDM2OTQxNjE2NyIsInQiOjE2NzgwMzgyNDQwMjYsImgiOiI1MmE4MTdjZWU4MThiYmM1NDEzYTBiYjNhMjA5NWIwZjczM2UwNDk0MmI0MTc0OWRlNjI4OTQzODkwNDZlOTAyIn0=; _gat_UA-70763449-4=1; bm_sv=121FEAF99DF16AA6E0CCA26213ED11C0~YAAQGmvcF4x94HSGAQAAuA/cshPEdXBbUAm8SV0pjvIvne7YMz4zc6eaXzMoYO6/dpqgJgeK5MgZIBBwchMCjZqQu+RMtC4lW8f15HRpIA8s0cuQx1fCUvqKsl7R3UcKeeoKOheynlxs5R6KNHvUhtms3i5mpT+IX21vvNo9CgV9DKCMfjFYk9kAVFp1PAqF50pdwCnn+TLS12QJ6y5g+z37dmLB8VQCShWIIQekRGoHWtT6bFeyJKkdGSKUfd/TCMw=~1; _tq_id.TV-8181908145-1.9607=3890ebdd7ef53062.1677428630.0.1678038044..',\n",
    "    'referer': 'https://ny.wynnbet.com/event/10283668/alternates?page-type=ALL_MARKET',\n",
    "    'sec-ch-ua': '\"Not?A_Brand\";v=\"8\", \"Chromium\";v=\"108\", \"Google Chrome\";v=\"108\"',\n",
    "    'sec-ch-ua-mobile': '?0',\n",
    "    'sec-ch-ua-platform': '\"macOS\"',\n",
    "    'sec-fetch-dest': 'empty',\n",
    "    'sec-fetch-mode': 'cors',\n",
    "    'sec-fetch-site': 'same-origin',\n",
    "    'user-agent': 'Mozilla/5.0 (Macintosh; Intel Mac OS X 10_15_7) AppleWebKit/537.36 (KHTML, like Gecko) Chrome/108.0.0.0 Safari/537.36',\n",
    "    'x-api-version': '1.9.0',\n",
    "}\n"
   ]
  },
  {
   "cell_type": "code",
   "execution_count": 4,
   "id": "b64bd93a-c604-4526-b5ae-47ae27c978f8",
   "metadata": {},
   "outputs": [],
   "source": [
    "response = requests.get(url, headers=HEADERS_WYNN)"
   ]
  },
  {
   "cell_type": "code",
   "execution_count": 38,
   "id": "29634e62-85d9-4e32-9f3d-81e3b4bfb50c",
   "metadata": {},
   "outputs": [],
   "source": [
    "lines = []\n",
    "\n",
    "markets = response.json()['data']['marketCards'][0]['markets']\n",
    "\n",
    "for market in markets:\n",
    "    outcomes = market['outcomes']\n",
    "\n",
    "    for outcome in outcomes:\n",
    "        row = {\n",
    "            'matchup_id': matchup_id,\n",
    "            'outcome_id': outcome['id'],\n",
    "            'label_wynn': outcome['name'],\n",
    "            'side': outcome['side']\n",
    "        }\n",
    "\n",
    "        for price in outcome['prices']:\n",
    "            details = {\n",
    "                'price_decimal': price['decimal'],\n",
    "                'points': price['handicapLow']\n",
    "            }\n",
    "            lines.append(dict(row, **details))\n",
    "\n"
   ]
  },
  {
   "cell_type": "code",
   "execution_count": 40,
   "id": "7803d0d6-2b3b-4a04-8dd8-80a9baa021e2",
   "metadata": {},
   "outputs": [
    {
     "data": {
      "text/html": [
       "<div>\n",
       "<style scoped>\n",
       "    .dataframe tbody tr th:only-of-type {\n",
       "        vertical-align: middle;\n",
       "    }\n",
       "\n",
       "    .dataframe tbody tr th {\n",
       "        vertical-align: top;\n",
       "    }\n",
       "\n",
       "    .dataframe thead th {\n",
       "        text-align: right;\n",
       "    }\n",
       "</style>\n",
       "<table border=\"1\" class=\"dataframe\">\n",
       "  <thead>\n",
       "    <tr style=\"text-align: right;\">\n",
       "      <th></th>\n",
       "      <th>matchup_id</th>\n",
       "      <th>outcome_id</th>\n",
       "      <th>label_wynn</th>\n",
       "      <th>side</th>\n",
       "      <th>price_decimal</th>\n",
       "      <th>points</th>\n",
       "    </tr>\n",
       "  </thead>\n",
       "  <tbody>\n",
       "    <tr>\n",
       "      <th>0</th>\n",
       "      <td>10283668</td>\n",
       "      <td>15750217</td>\n",
       "      <td>PHX Suns</td>\n",
       "      <td>AWAY</td>\n",
       "      <td>1.91</td>\n",
       "      <td>-2.0</td>\n",
       "    </tr>\n",
       "    <tr>\n",
       "      <th>1</th>\n",
       "      <td>10283668</td>\n",
       "      <td>15750203</td>\n",
       "      <td>DAL Mavericks</td>\n",
       "      <td>HOME</td>\n",
       "      <td>1.91</td>\n",
       "      <td>2.0</td>\n",
       "    </tr>\n",
       "    <tr>\n",
       "      <th>2</th>\n",
       "      <td>10283668</td>\n",
       "      <td>15750381</td>\n",
       "      <td>PHX Suns</td>\n",
       "      <td>AWAY</td>\n",
       "      <td>2.00</td>\n",
       "      <td>-3.0</td>\n",
       "    </tr>\n",
       "    <tr>\n",
       "      <th>3</th>\n",
       "      <td>10283668</td>\n",
       "      <td>15750355</td>\n",
       "      <td>DAL Mavericks</td>\n",
       "      <td>HOME</td>\n",
       "      <td>1.71</td>\n",
       "      <td>3.0</td>\n",
       "    </tr>\n",
       "    <tr>\n",
       "      <th>4</th>\n",
       "      <td>10283668</td>\n",
       "      <td>15750288</td>\n",
       "      <td>PHX Suns</td>\n",
       "      <td>AWAY</td>\n",
       "      <td>2.10</td>\n",
       "      <td>-3.5</td>\n",
       "    </tr>\n",
       "    <tr>\n",
       "      <th>5</th>\n",
       "      <td>10283668</td>\n",
       "      <td>15750256</td>\n",
       "      <td>DAL Mavericks</td>\n",
       "      <td>HOME</td>\n",
       "      <td>1.65</td>\n",
       "      <td>3.5</td>\n",
       "    </tr>\n",
       "    <tr>\n",
       "      <th>6</th>\n",
       "      <td>10283668</td>\n",
       "      <td>15750267</td>\n",
       "      <td>PHX Suns</td>\n",
       "      <td>AWAY</td>\n",
       "      <td>2.15</td>\n",
       "      <td>-4.0</td>\n",
       "    </tr>\n",
       "    <tr>\n",
       "      <th>7</th>\n",
       "      <td>10283668</td>\n",
       "      <td>15750300</td>\n",
       "      <td>DAL Mavericks</td>\n",
       "      <td>HOME</td>\n",
       "      <td>1.61</td>\n",
       "      <td>4.0</td>\n",
       "    </tr>\n",
       "    <tr>\n",
       "      <th>8</th>\n",
       "      <td>10283668</td>\n",
       "      <td>15750233</td>\n",
       "      <td>PHX Suns</td>\n",
       "      <td>AWAY</td>\n",
       "      <td>2.25</td>\n",
       "      <td>-4.5</td>\n",
       "    </tr>\n",
       "    <tr>\n",
       "      <th>9</th>\n",
       "      <td>10283668</td>\n",
       "      <td>15750214</td>\n",
       "      <td>DAL Mavericks</td>\n",
       "      <td>HOME</td>\n",
       "      <td>1.57</td>\n",
       "      <td>4.5</td>\n",
       "    </tr>\n",
       "  </tbody>\n",
       "</table>\n",
       "</div>"
      ],
      "text/plain": [
       "  matchup_id outcome_id     label_wynn  side  price_decimal points\n",
       "0   10283668   15750217       PHX Suns  AWAY           1.91   -2.0\n",
       "1   10283668   15750203  DAL Mavericks  HOME           1.91    2.0\n",
       "2   10283668   15750381       PHX Suns  AWAY           2.00   -3.0\n",
       "3   10283668   15750355  DAL Mavericks  HOME           1.71    3.0\n",
       "4   10283668   15750288       PHX Suns  AWAY           2.10   -3.5\n",
       "5   10283668   15750256  DAL Mavericks  HOME           1.65    3.5\n",
       "6   10283668   15750267       PHX Suns  AWAY           2.15   -4.0\n",
       "7   10283668   15750300  DAL Mavericks  HOME           1.61    4.0\n",
       "8   10283668   15750233       PHX Suns  AWAY           2.25   -4.5\n",
       "9   10283668   15750214  DAL Mavericks  HOME           1.57    4.5"
      ]
     },
     "execution_count": 40,
     "metadata": {},
     "output_type": "execute_result"
    }
   ],
   "source": [
    "pd.DataFrame(lines)"
   ]
  },
  {
   "cell_type": "code",
   "execution_count": 46,
   "id": "e0c667a3-2995-4e7e-855d-654ca2c22ba7",
   "metadata": {},
   "outputs": [],
   "source": [
    "params = {\n",
    "    'page': '0',\n",
    "}\n",
    "\n",
    "response = requests.get('https://ny.wynnbet.com/api/sportsbook/tournaments/49', params=params, headers=HEADERS_WYNN)"
   ]
  },
  {
   "cell_type": "code",
   "execution_count": 44,
   "id": "be989175-c2ee-48db-8545-0ef8553f8566",
   "metadata": {},
   "outputs": [],
   "source": [
    "\n",
    "response = requests.get(\n",
    "    'https://ny.wynnbet.com/api/sportsbook/tournaments/49?page=0', headers=HEADERS_WYNN\n",
    ")"
   ]
  },
  {
   "cell_type": "code",
   "execution_count": 48,
   "id": "c11494c2-e3b0-4b09-b939-cfff239cff92",
   "metadata": {},
   "outputs": [
    {
     "data": {
      "text/plain": [
       "{'data': None,\n",
       " 'meta': None,\n",
       " 'error': {'data': {'timestamp': 1678039102372,\n",
       "   'status': 500,\n",
       "   'error': 'Internal Server Error',\n",
       "   'message': 'No message available',\n",
       "   'path': '/sportsbook/tournaments/49'},\n",
       "  'error': None,\n",
       "  'meta': {'sorting': None,\n",
       "   'pagination': None,\n",
       "   'serverTime': 1678039102372,\n",
       "   'serverTimeZone': 'US/Eastern'}},\n",
       " 'api': False}"
      ]
     },
     "execution_count": 48,
     "metadata": {},
     "output_type": "execute_result"
    }
   ],
   "source": [
    "response.json()"
   ]
  },
  {
   "cell_type": "code",
   "execution_count": 49,
   "id": "8cb86e0f-c3a5-4248-91fc-7ea8bf9b03ca",
   "metadata": {},
   "outputs": [],
   "source": [
    "params = {\n",
    "    'page': '0',\n",
    "}\n",
    "\n",
    "response = requests.get('https://ny.wynnbet.com/api/sportsbook/tournaments/49', params=params,  headers=HEADERS_WYNN)"
   ]
  },
  {
   "cell_type": "code",
   "execution_count": 50,
   "id": "2d627f3a-c86d-4512-b1bc-077274dd4326",
   "metadata": {},
   "outputs": [
    {
     "data": {
      "text/plain": [
       "<Response [500]>"
      ]
     },
     "execution_count": 50,
     "metadata": {},
     "output_type": "execute_result"
    }
   ],
   "source": [
    "response"
   ]
  },
  {
   "cell_type": "code",
   "execution_count": null,
   "id": "ee162215-d00c-4335-8b55-cdc00d781cd2",
   "metadata": {},
   "outputs": [],
   "source": []
  }
 ],
 "metadata": {
  "kernelspec": {
   "display_name": "sports-betting",
   "language": "python",
   "name": "sports-betting"
  },
  "language_info": {
   "codemirror_mode": {
    "name": "ipython",
    "version": 3
   },
   "file_extension": ".py",
   "mimetype": "text/x-python",
   "name": "python",
   "nbconvert_exporter": "python",
   "pygments_lexer": "ipython3",
   "version": "3.9.10"
  }
 },
 "nbformat": 4,
 "nbformat_minor": 5
}
