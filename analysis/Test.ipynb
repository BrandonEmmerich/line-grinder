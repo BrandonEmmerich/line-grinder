{
 "cells": [
  {
   "cell_type": "markdown",
   "id": "c35eac57-efd3-4213-873e-964f975453d8",
   "metadata": {},
   "source": [
    "# Test"
   ]
  },
  {
   "cell_type": "code",
   "execution_count": 31,
   "id": "f7c9c98d-bda6-4533-bd59-f7cfe00f621f",
   "metadata": {},
   "outputs": [
    {
     "name": "stdout",
     "output_type": "stream",
     "text": [
      "Getting Pinnacle Lines...\n",
      "Getting DraftKings Lines...\n"
     ]
    },
    {
     "ename": "KeyError",
     "evalue": "'eventGroup'",
     "output_type": "error",
     "traceback": [
      "\u001b[0;31m---------------------------------------------------------------------------\u001b[0m",
      "\u001b[0;31mKeyError\u001b[0m                                  Traceback (most recent call last)",
      "Cell \u001b[0;32mIn[31], line 34\u001b[0m\n\u001b[1;32m     28\u001b[0m dkng \u001b[38;5;241m=\u001b[39m draftkings\u001b[38;5;241m.\u001b[39mDraftKings(\n\u001b[1;32m     29\u001b[0m     league\u001b[38;5;241m=\u001b[39mleague, \n\u001b[1;32m     30\u001b[0m     category_id\u001b[38;5;241m=\u001b[39m\u001b[38;5;241m4606\u001b[39m\n\u001b[1;32m     31\u001b[0m )\n\u001b[1;32m     33\u001b[0m \u001b[38;5;28mprint\u001b[39m(\u001b[38;5;124m'\u001b[39m\u001b[38;5;124mGetting DraftKings Lines...\u001b[39m\u001b[38;5;124m'\u001b[39m)\n\u001b[0;32m---> 34\u001b[0m \u001b[43mdkng\u001b[49m\u001b[38;5;241;43m.\u001b[39;49m\u001b[43mget_data\u001b[49m\u001b[43m(\u001b[49m\u001b[43m)\u001b[49m\n\u001b[1;32m     36\u001b[0m pb \u001b[38;5;241m=\u001b[39m pointsbet\u001b[38;5;241m.\u001b[39mPointsBet()\n\u001b[1;32m     37\u001b[0m \u001b[38;5;28mprint\u001b[39m(\u001b[38;5;124m'\u001b[39m\u001b[38;5;124mGetting PointsBet Lines...\u001b[39m\u001b[38;5;124m'\u001b[39m)\n",
      "File \u001b[0;32m~/Desktop/development/line-grinder/analysis/../sportsbooks/draftkings.py:64\u001b[0m, in \u001b[0;36mDraftKings.get_data\u001b[0;34m(self)\u001b[0m\n\u001b[1;32m     60\u001b[0m     mapping_path \u001b[38;5;241m=\u001b[39m \u001b[38;5;124m'\u001b[39m\u001b[38;5;124mdata/mapping.csv\u001b[39m\u001b[38;5;124m'\u001b[39m\n\u001b[1;32m     62\u001b[0m mapping \u001b[38;5;241m=\u001b[39m pd\u001b[38;5;241m.\u001b[39mread_csv(mapping_path)\n\u001b[0;32m---> 64\u001b[0m \u001b[38;5;28;43mself\u001b[39;49m\u001b[38;5;241;43m.\u001b[39;49m\u001b[43m_get_alt_lines\u001b[49m\u001b[43m(\u001b[49m\u001b[43m)\u001b[49m\n\u001b[1;32m     66\u001b[0m \u001b[38;5;28mself\u001b[39m\u001b[38;5;241m.\u001b[39mdf \u001b[38;5;241m=\u001b[39m (\n\u001b[1;32m     67\u001b[0m     \u001b[38;5;28mself\u001b[39m\u001b[38;5;241m.\u001b[39mdf__raw\n\u001b[1;32m     68\u001b[0m     \u001b[38;5;241m.\u001b[39mmerge(\n\u001b[0;32m   (...)\u001b[0m\n\u001b[1;32m     77\u001b[0m     [[\u001b[38;5;124m'\u001b[39m\u001b[38;5;124mparticipant_name\u001b[39m\u001b[38;5;124m'\u001b[39m, \u001b[38;5;124m'\u001b[39m\u001b[38;5;124mpoints\u001b[39m\u001b[38;5;124m'\u001b[39m, \u001b[38;5;124m'\u001b[39m\u001b[38;5;124mprice\u001b[39m\u001b[38;5;124m'\u001b[39m]]\n\u001b[1;32m     78\u001b[0m )\n",
      "File \u001b[0;32m~/Desktop/development/line-grinder/analysis/../sportsbooks/draftkings.py:54\u001b[0m, in \u001b[0;36mDraftKings._get_alt_lines\u001b[0;34m(self)\u001b[0m\n\u001b[1;32m     52\u001b[0m \u001b[38;5;28;01mdef\u001b[39;00m \u001b[38;5;21m_get_alt_lines\u001b[39m(\u001b[38;5;28mself\u001b[39m):\n\u001b[1;32m     53\u001b[0m     \u001b[38;5;28mself\u001b[39m\u001b[38;5;241m.\u001b[39m_hit_endpoints()\n\u001b[0;32m---> 54\u001b[0m     \u001b[38;5;28;43mself\u001b[39;49m\u001b[38;5;241;43m.\u001b[39;49m\u001b[43m_unpack_json\u001b[49m\u001b[43m(\u001b[49m\u001b[43m)\u001b[49m\n",
      "File \u001b[0;32m~/Desktop/development/line-grinder/analysis/../sportsbooks/draftkings.py:41\u001b[0m, in \u001b[0;36mDraftKings._unpack_json\u001b[0;34m(self)\u001b[0m\n\u001b[1;32m     40\u001b[0m \u001b[38;5;28;01mdef\u001b[39;00m \u001b[38;5;21m_unpack_json\u001b[39m(\u001b[38;5;28mself\u001b[39m):\n\u001b[0;32m---> 41\u001b[0m     games \u001b[38;5;241m=\u001b[39m \u001b[38;5;28;43mself\u001b[39;49m\u001b[38;5;241;43m.\u001b[39;49m\u001b[43mresponse__alt_lines\u001b[49m\u001b[38;5;241;43m.\u001b[39;49m\u001b[43mjson\u001b[49m\u001b[43m(\u001b[49m\u001b[43m)\u001b[49m\u001b[43m[\u001b[49m\u001b[38;5;124;43m'\u001b[39;49m\u001b[38;5;124;43meventGroup\u001b[39;49m\u001b[38;5;124;43m'\u001b[39;49m\u001b[43m]\u001b[49m[\u001b[38;5;124m'\u001b[39m\u001b[38;5;124mofferCategories\u001b[39m\u001b[38;5;124m'\u001b[39m][\u001b[38;5;241m0\u001b[39m][\u001b[38;5;124m'\u001b[39m\u001b[38;5;124mofferSubcategoryDescriptors\u001b[39m\u001b[38;5;124m'\u001b[39m][\u001b[38;5;241m1\u001b[39m][\u001b[38;5;124m'\u001b[39m\u001b[38;5;124mofferSubcategory\u001b[39m\u001b[38;5;124m'\u001b[39m][\u001b[38;5;124m'\u001b[39m\u001b[38;5;124moffers\u001b[39m\u001b[38;5;124m'\u001b[39m]\n\u001b[1;32m     43\u001b[0m     lines \u001b[38;5;241m=\u001b[39m []\n\u001b[1;32m     45\u001b[0m     \u001b[38;5;28;01mfor\u001b[39;00m game \u001b[38;5;129;01min\u001b[39;00m games:\n",
      "\u001b[0;31mKeyError\u001b[0m: 'eventGroup'"
     ]
    }
   ],
   "source": [
    "import matplotlib.pyplot as plt\n",
    "import pandas as pd\n",
    "import pendulum\n",
    "import sys\n",
    "sys.path.append('..')\n",
    "\n",
    "from sportsbooks import (\n",
    "    pinnacle,\n",
    "    draftkings,\n",
    "    pointsbet,\n",
    "    caesers,\n",
    "    betmgm,\n",
    "    wynn\n",
    ")\n",
    "\n",
    "from calculator import Calculator\n",
    "\n",
    "def right_now():\n",
    "    return str(pendulum.now()).split('.')[0].replace('T', ' ')\n",
    "\n",
    "\n",
    "league=487\n",
    "pinny = pinnacle.Pinnacle(league=league)\n",
    "\n",
    "print('Getting Pinnacle Lines...')\n",
    "pinny.get_data()\n",
    "\n",
    "dkng = draftkings.DraftKings(\n",
    "    league=league, \n",
    "    category_id=4606\n",
    ")\n",
    "\n",
    "print('Getting DraftKings Lines...')\n",
    "dkng.get_data()\n",
    "\n",
    "pb = pointsbet.PointsBet()\n",
    "print('Getting PointsBet Lines...')\n",
    "\n",
    "pb.get_data()\n",
    "\n",
    "print('Getting Caesers Lines...')\n",
    "czr = caesers.Caesers()\n",
    "czr.get_data()\n",
    "\n",
    "print('Getting BetMGM Lines...')\n",
    "mgm = betmgm.BetMGM()\n",
    "mgm.get_data()\n",
    "\n",
    "print('Getting Wynn Lines...')\n",
    "winny = wynn.Wynn()\n",
    "winny.get_data()\n",
    "\n",
    "print('Returning ROI Calculations:')\n",
    "\n",
    "retail = (\n",
    "    dkng.df\n",
    "    .assign(\n",
    "        DraftKings = lambda x: x['price'].apply(Calculator.convert_american_to_decimal)\n",
    "    )\n",
    "    [['participant_name', 'points', 'DraftKings']]\n",
    "    .merge(\n",
    "        (\n",
    "            pb.df\n",
    "            .rename(columns={'odds_decimal': 'PointsBet'})\n",
    "        ),\n",
    "        how='outer',\n",
    "        on=['participant_name', 'points']\n",
    "    )\n",
    "    .merge(\n",
    "        (\n",
    "            czr.df\n",
    "            .rename(columns={'price': 'Caesers'})\n",
    "        ),\n",
    "        how='outer',\n",
    "        on=['participant_name', 'points']\n",
    "    ) \n",
    "    .merge(\n",
    "        (\n",
    "            mgm.df\n",
    "            .rename(columns={'price': 'BetMGM'})\n",
    "        ),\n",
    "        how='outer',\n",
    "        on=['participant_name', 'points']\n",
    "    ) \n",
    "    .merge(winny.df.rename(columns={'price': 'Wynn'}), how='outer', on=['participant_name', 'points'])\n",
    "    .melt(\n",
    "        id_vars=['participant_name', 'points'],\n",
    "        var_name='book',\n",
    "        value_name='Decimal Odds'\n",
    "    )\n",
    ")\n",
    "\n",
    "ROI = (\n",
    "    pinny.df\n",
    "    .assign(\n",
    "        raw_probability = lambda x: x['price'].apply(Calculator.get_implied_probability),\n",
    "        vig_free_probability = lambda x: x['raw_probability'] / x.groupby(['matchup_id', 'key'])['raw_probability'].transform('sum')\n",
    "    )\n",
    "    [['participant_name', 'points', 'price', 'vig_free_probability']]\n",
    "    .merge(\n",
    "        retail,\n",
    "        on=['participant_name', 'points'],\n",
    "        how='left'\n",
    "    )\n",
    "    .assign(\n",
    "        BookPrice = lambda x: round(x['Decimal Odds'].apply(Calculator.convert_decimal_to_american)),\n",
    "        roi = lambda x: round(100 * (x['Decimal Odds'] * x['vig_free_probability'] - 1),1),\n",
    "        ROI = lambda x: x['roi'].transform(lambda s: f'{s}%'),\n",
    "        vig_free_probability = lambda x: x['vig_free_probability'].transform(lambda s: f'{round(100 * s, 1)}%')\n",
    "    )\n",
    "    .sort_values(\n",
    "        by='roi',\n",
    "        ascending=False\n",
    "    )\n",
    "    [['participant_name', 'points', 'price', 'vig_free_probability', 'book', 'BookPrice', 'ROI']]\n",
    ")\n",
    "\n",
    "\n",
    "print(right_now())\n",
    "print(ROI.head(15).to_markdown(index=False))"
   ]
  },
  {
   "cell_type": "code",
   "execution_count": 35,
   "id": "f941b422-f7e8-4014-b42d-5b90d2cd9beb",
   "metadata": {},
   "outputs": [
    {
     "data": {
      "text/plain": [
       "404"
      ]
     },
     "execution_count": 35,
     "metadata": {},
     "output_type": "execute_result"
    }
   ],
   "source": [
    "dkng.response__alt_lines.status_code"
   ]
  },
  {
   "cell_type": "code",
   "execution_count": null,
   "id": "581a9964-e2cb-43ca-a349-36a3d393ee89",
   "metadata": {},
   "outputs": [],
   "source": []
  }
 ],
 "metadata": {
  "kernelspec": {
   "display_name": "sports-betting",
   "language": "python",
   "name": "sports-betting"
  },
  "language_info": {
   "codemirror_mode": {
    "name": "ipython",
    "version": 3
   },
   "file_extension": ".py",
   "mimetype": "text/x-python",
   "name": "python",
   "nbconvert_exporter": "python",
   "pygments_lexer": "ipython3",
   "version": "3.9.10"
  }
 },
 "nbformat": 4,
 "nbformat_minor": 5
}
